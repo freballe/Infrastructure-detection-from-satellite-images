{
  "nbformat": 4,
  "nbformat_minor": 0,
  "metadata": {
    "accelerator": "GPU",
    "colab": {
      "name": "preprocess_data.ipynb",
      "provenance": [],
      "collapsed_sections": []
    },
    "kernelspec": {
      "display_name": "Python 3",
      "name": "python3"
    }
  },
  "cells": [
    {
      "cell_type": "code",
      "metadata": {
        "colab": {
          "base_uri": "https://localhost:8080/"
        },
        "id": "KxgSX4Vyc0Bj",
        "outputId": "330dee34-0948-44a9-fd1c-bc2b464a4c8f"
      },
      "source": [
        "import numpy as np\n",
        "import tensorflow as tf\n",
        "from tensorflow.keras import layers, models\n",
        "import matplotlib.pyplot as plt\n",
        "from google.colab import drive\n",
        "drive.mount('/content/drive')"
      ],
      "execution_count": 13,
      "outputs": [
        {
          "output_type": "stream",
          "text": [
            "Drive already mounted at /content/drive; to attempt to forcibly remount, call drive.mount(\"/content/drive\", force_remount=True).\n"
          ],
          "name": "stdout"
        }
      ]
    },
    {
      "cell_type": "code",
      "metadata": {
        "colab": {
          "base_uri": "https://localhost:8080/"
        },
        "id": "SF2m0iDDeAMf",
        "outputId": "b15aa6e6-9119-494b-9ca5-5755e7a30873"
      },
      "source": [
        "!ls -al drive/My\\ Drive/data"
      ],
      "execution_count": null,
      "outputs": [
        {
          "output_type": "stream",
          "text": [
            "total 1925451\n",
            "-rw------- 1 root root 759780182 Nov  5 15:29 train_imgs_1.npy\n",
            "-rw------- 1 root root 718965551 Nov  5 16:21 train_imgs_2.npy\n",
            "-rw------- 1 root root 253260146 Nov  5 15:30 train_labels_1.npy\n",
            "-rw------- 1 root root 239655269 Nov  5 16:21 train_labels_2.npy\n"
          ],
          "name": "stdout"
        }
      ]
    },
    {
      "cell_type": "code",
      "metadata": {
        "id": "kaAZXalsc0B8"
      },
      "source": [
        "train_imgs = np.array([])\n",
        "train_labels = np.array([])"
      ],
      "execution_count": 14,
      "outputs": []
    },
    {
      "cell_type": "code",
      "metadata": {
        "colab": {
          "base_uri": "https://localhost:8080/"
        },
        "id": "wkXbEYJ5c0CK",
        "outputId": "1fd1567a-1620-4a65-80a6-1009f7a5972c"
      },
      "source": [
        "# load train (10 locations)\n",
        "flag = False\n",
        "for index_name in range(1,3):\n",
        "    print(\"Iteration\", index_name)\n",
        "    if flag == False:\n",
        "        train_imgs = np.load(\"drive/My Drive/data2/train_imgs_\" + str(index_name) + \".npy\")\n",
        "        train_labels = np.load(\"drive/My Drive/data2/train_labels_\" + str(index_name) + \".npy\")\n",
        "        flag = True\n",
        "    else:\n",
        "        train_imgs = np.concatenate([train_imgs, np.load(\"drive/My Drive/data2/train_imgs_\" + str(index_name) + \".npy\")], axis=0)\n",
        "        train_labels = np.concatenate([train_labels, np.load(\"drive/My Drive/data2/train_labels_\" + str(index_name) + \".npy\")], axis=0)"
      ],
      "execution_count": 15,
      "outputs": [
        {
          "output_type": "stream",
          "text": [
            "Iteration 1\n",
            "Iteration 2\n"
          ],
          "name": "stdout"
        }
      ]
    },
    {
      "cell_type": "code",
      "metadata": {
        "id": "vaK6vQ9Rk5iH"
      },
      "source": [
        "train_imgs = train_imgs.astype(\"float32\")\n",
        "train_labels = train_labels.astype(\"float32\")"
      ],
      "execution_count": 16,
      "outputs": []
    },
    {
      "cell_type": "markdown",
      "metadata": {
        "id": "8TtF2sdtc0Cg"
      },
      "source": [
        "### Preprocessing"
      ]
    },
    {
      "cell_type": "code",
      "metadata": {
        "id": "hWU5Cuoef74q"
      },
      "source": [
        "patch_size = 200\n",
        "threshold = 1000 #(200*200) / 10 # min number of 1 pixels needed\n",
        "patches_imgs = np.array([])\n",
        "patches_labels = np.array([])\n",
        "found_patch = False"
      ],
      "execution_count": 17,
      "outputs": []
    },
    {
      "cell_type": "code",
      "metadata": {
        "id": "IPron3ZygFmM"
      },
      "source": [
        "def count_pixels(img):\n",
        "    return img[img > 0].shape[0]"
      ],
      "execution_count": 18,
      "outputs": []
    },
    {
      "cell_type": "code",
      "metadata": {
        "id": "F7M7ts76s3Km",
        "colab": {
          "base_uri": "https://localhost:8080/"
        },
        "outputId": "47feee16-082c-4cde-9ed9-9b6ae7dff809"
      },
      "source": [
        "# stack two images on channel axis and compute difference between label images\n",
        "indices = [0,25,50,74,98,122,144,169,193,218,242,266]\n",
        "\n",
        "for k in range(len(indices)-1):\n",
        "    for t1 in range(indices[k], indices[k+1]):\n",
        "        if t1%10==0:\n",
        "            print(t1)\n",
        "        for t2 in range(t1, indices[k+1]):\n",
        "            pair_img = np.concatenate([train_imgs[t2], train_imgs[t1]], axis=-1)\n",
        "            new_label = (train_labels[t2]) - (train_labels[t1])\n",
        "            new_label[new_label<0] = 0\n",
        "\n",
        "            if new_label[(new_label < 255) & (new_label > 0)].shape[0] > 0:\n",
        "                print(t2,t1)\n",
        "            for i in range(0, 1023-patch_size, patch_size):\n",
        "                for j in range(0, 1023-patch_size, patch_size):\n",
        "                    img = new_label[i:i+patch_size, j:j+patch_size]\n",
        "                    if count_pixels(img) > threshold: # keep image\n",
        "                        if not found_patch:\n",
        "                            patches_imgs = np.expand_dims(pair_img[i:i+patch_size, j:j+patch_size,:], axis=0)\n",
        "                            patches_labels = np.expand_dims(img, axis=0)\n",
        "                            found_patch = True\n",
        "                        else:\n",
        "                            patches_imgs = np.concatenate([patches_imgs, np.expand_dims(pair_img[i:i+patch_size, j:j+patch_size,:], axis=0)], axis=0)\n",
        "                            patches_labels = np.concatenate([patches_labels, np.expand_dims(img, axis=0)], axis=0)"
      ],
      "execution_count": 19,
      "outputs": [
        {
          "output_type": "stream",
          "text": [
            "0\n",
            "10\n",
            "20\n",
            "30\n",
            "40\n",
            "50\n",
            "60\n",
            "70\n",
            "80\n",
            "90\n",
            "100\n",
            "110\n",
            "120\n",
            "130\n",
            "140\n",
            "150\n",
            "160\n",
            "170\n",
            "180\n",
            "190\n",
            "200\n",
            "210\n",
            "220\n",
            "230\n",
            "240\n",
            "250\n",
            "260\n"
          ],
          "name": "stdout"
        }
      ]
    },
    {
      "cell_type": "code",
      "metadata": {
        "id": "c6IThVYuAJdM",
        "colab": {
          "base_uri": "https://localhost:8080/"
        },
        "outputId": "9f1b7675-0343-41be-f4a5-460c43a327c3"
      },
      "source": [
        "patches_imgs.shape, patches_labels.shape"
      ],
      "execution_count": 20,
      "outputs": [
        {
          "output_type": "execute_result",
          "data": {
            "text/plain": [
              "((1830, 200, 200, 6), (1830, 200, 200))"
            ]
          },
          "metadata": {
            "tags": []
          },
          "execution_count": 20
        }
      ]
    },
    {
      "cell_type": "code",
      "metadata": {
        "id": "IZUc4o_wc0Ch"
      },
      "source": [
        "# Crop images to img_size x img_size\n",
        "train_imgs = np.divide(patches_imgs, 255.)\n",
        "train_labels = np.divide(patches_labels, 255)\n",
        "\n",
        "# Expand dims for compatibility with the network\n",
        "train_labels = np.expand_dims(train_labels, axis=-1)"
      ],
      "execution_count": 21,
      "outputs": []
    },
    {
      "cell_type": "code",
      "metadata": {
        "colab": {
          "base_uri": "https://localhost:8080/"
        },
        "id": "0CnR_VSnRNow",
        "outputId": "57aff945-da12-4c88-889b-11b131461a14"
      },
      "source": [
        "train_imgs.shape, train_labels.dtype"
      ],
      "execution_count": 22,
      "outputs": [
        {
          "output_type": "execute_result",
          "data": {
            "text/plain": [
              "((1830, 200, 200, 6), dtype('float32'))"
            ]
          },
          "metadata": {
            "tags": []
          },
          "execution_count": 22
        }
      ]
    },
    {
      "cell_type": "code",
      "metadata": {
        "colab": {
          "base_uri": "https://localhost:8080/"
        },
        "id": "Azukyor9w5gs",
        "outputId": "4e6ea415-e522-4c55-e1ba-ecb23115ccd2"
      },
      "source": [
        "train_labels.shape"
      ],
      "execution_count": 23,
      "outputs": [
        {
          "output_type": "execute_result",
          "data": {
            "text/plain": [
              "(1830, 200, 200, 1)"
            ]
          },
          "metadata": {
            "tags": []
          },
          "execution_count": 23
        }
      ]
    },
    {
      "cell_type": "code",
      "metadata": {
        "id": "GguAob8cn4vS"
      },
      "source": [
        "np.save(\"drive/My Drive/data2/imgs_final_dataset.npy\", train_imgs)\n",
        "np.save(\"drive/My Drive/data2/labels_final_dataset.npy\", train_labels)"
      ],
      "execution_count": 24,
      "outputs": []
    }
  ]
}